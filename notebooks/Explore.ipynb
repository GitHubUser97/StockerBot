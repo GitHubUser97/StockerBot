{
 "cells": [
  {
   "cell_type": "markdown",
   "metadata": {},
   "source": [
    "#### Exploration of How to Model the Data"
   ]
  },
  {
   "cell_type": "code",
   "execution_count": 21,
   "metadata": {},
   "outputs": [],
   "source": [
    "import sys\n",
    "import os\n",
    "import re\n",
    "import json\n",
    "sys.path.insert(0, '/Users/david/Desktop/Projects/Stocker/src')\n",
    "from webparser import scrape\n",
    "from nltk.tokenize import sent_tokenize, word_tokenize\n",
    "from nltk.corpus import stopwords\n",
    "from nltk import RegexpParser\n",
    "from nltk import pos_tag\n",
    "from nltk.corpus import stopwords\n",
    "\n",
    "\n"
   ]
  },
  {
   "cell_type": "code",
   "execution_count": 22,
   "metadata": {},
   "outputs": [],
   "source": [
    "tweet = \"In this weekly bar chart of GOOGL, we can see that the uptrend in prices over past three years has been very durable:  Prices have stayed above the rising 40-week moving average line for most of the time.\"\n",
    "tweets = [tweet]\n",
    "stop_words = set(stopwords.words('english'))\n"
   ]
  },
  {
   "cell_type": "code",
   "execution_count": 23,
   "metadata": {},
   "outputs": [
    {
     "name": "stdout",
     "output_type": "stream",
     "text": [
      "[('In', 'IN'), ('weekly', 'JJ'), ('bar', 'NN'), ('chart', 'NN'), ('GOOGL', 'NNP'), (',', ','), ('see', 'VBP'), ('uptrend', 'JJ'), ('prices', 'NNS'), ('past', 'IN'), ('three', 'CD'), ('years', 'NNS'), ('durable', 'JJ'), (':', ':'), ('Prices', 'NNS'), ('stayed', 'VBD'), ('rising', 'VBG'), ('40-week', 'JJ'), ('moving', 'JJ'), ('average', 'JJ'), ('line', 'NN'), ('time', 'NN'), ('.', '.')]\n"
     ]
    }
   ],
   "source": [
    "chunks = []\n",
    "chunkGram = r'Chunk: {<RB.?>*<VB.?>*<NNP>+<NN>?}'\n",
    "chunkParser = RegexpParser(chunkGram)\n",
    "\n",
    "for tweet in tweets:\n",
    "    sents = sent_tokenize(tweet)\n",
    "    for sent in sents:\n",
    "        words = [w for w in word_tokenize(sent) if w not in stop_words]\n",
    "        tagged = pos_tag(words)\n",
    "        print (tagged)\n",
    "        chunked = chunkParser.parse(tagged)\n",
    "        chunks.append(chunked)\n",
    "    \n",
    "        #chunked.draw()\n"
   ]
  },
  {
   "cell_type": "code",
   "execution_count": null,
   "metadata": {},
   "outputs": [],
   "source": []
  }
 ],
 "metadata": {
  "kernelspec": {
   "display_name": "Python 3",
   "language": "python",
   "name": "python3"
  },
  "language_info": {
   "codemirror_mode": {
    "name": "ipython",
    "version": 3
   },
   "file_extension": ".py",
   "mimetype": "text/x-python",
   "name": "python",
   "nbconvert_exporter": "python",
   "pygments_lexer": "ipython3",
   "version": "3.6.5"
  }
 },
 "nbformat": 4,
 "nbformat_minor": 2
}
